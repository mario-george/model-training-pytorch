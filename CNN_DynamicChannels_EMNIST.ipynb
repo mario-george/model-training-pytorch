{
 "cells": [
  {
   "cell_type": "code",
   "execution_count": null,
   "metadata": {},
   "outputs": [],
   "source": [
    "import numpy as np\n",
    "import torch\n",
    "import torch.nn as nn\n",
    "import torch.nn.functional as F\n",
    "from torch.utils.data import DataLoader,TensorDataset\n",
    "import copy\n",
    "from sklearn.model_selection import train_test_split\n",
    "import torchvision\n",
    "import matplotlib.pyplot as plt\n",
    "from IPython import display\n",
    "display.set_matplotlib_formats('svg')"
   ]
  },
  {
   "cell_type": "code",
   "execution_count": null,
   "metadata": {},
   "outputs": [],
   "source": [
    "device = torch.device('cuda:0' if torch.cuda.is_available() else 'cpu')"
   ]
  },
  {
   "cell_type": "code",
   "execution_count": null,
   "metadata": {},
   "outputs": [],
   "source": [
    "cdata = torchvision.datasets.EMNIST(root='emnist',split='letters',download=True)\n"
   ]
  },
  {
   "cell_type": "code",
   "execution_count": null,
   "metadata": {},
   "outputs": [],
   "source": [
    "images = cdata.data.view([124800,1,28,28]).float()\n",
    "# normalize the images\n",
    "images /= torch.max(images)\n",
    "print('\\nTensor data:')\n",
    "print(images.shape)\n"
   ]
  },
  {
   "cell_type": "code",
   "execution_count": null,
   "metadata": {},
   "outputs": [],
   "source": [
    "letterCategories = cdata.classes[1:]\n",
    "labels = copy.deepcopy(cdata.targets)-1"
   ]
  },
  {
   "cell_type": "code",
   "execution_count": null,
   "metadata": {},
   "outputs": [],
   "source": [
    "train_data,test_data, train_labels,test_labels = train_test_split(images, labels, test_size=.1)\n",
    "train_data = TensorDataset(train_data,train_labels)\n",
    "test_data  = TensorDataset(test_data,test_labels)\n",
    "batchsize    = 32\n",
    "train_loader = DataLoader(train_data,batch_size=batchsize,shuffle=True,drop_last=True)\n",
    "test_loader  = DataLoader(test_data,batch_size=test_data.tensors[0].shape[0])"
   ]
  },
  {
   "cell_type": "code",
   "execution_count": null,
   "metadata": {},
   "outputs": [],
   "source": [
    "def makeTheNet(numchans=(6,6)):\n",
    "\n",
    "  class emnistnet(nn.Module):\n",
    "    def __init__(self,numchans):\n",
    "      super().__init__()\n",
    "\n",
    "      self.conv1  = nn.Conv2d(1,numchans[0],3,padding=1)\n",
    "      self.bnorm1 = nn.BatchNorm2d(numchans[0])\n",
    "      self.conv2  = nn.Conv2d(numchans[0],numchans[1],3,padding=1)\n",
    "      self.bnorm2 = nn.BatchNorm2d(numchans[1])\n",
    "      self.fc1 = nn.Linear(7*7*numchans[1],50)\n",
    "      self.fc2 = nn.Linear(50,26)\n",
    "\n",
    "    def forward(self,x):\n",
    "\n",
    "      x = F.max_pool2d(self.conv1(x),2)\n",
    "      x = F.leaky_relu(self.bnorm1(x))\n",
    "      x = F.max_pool2d(self.conv2(x),2)\n",
    "      x = F.leaky_relu(self.bnorm2(x))\n",
    "      nUnits = x.shape.numel()/x.shape[0]\n",
    "      x = x.view(-1,int(nUnits))\n",
    "      x = F.leaky_relu(self.fc1(x))\n",
    "      x = self.fc2(x)\n",
    "      return x\n",
    "\n",
    "  net = emnistnet(numchans)\n",
    "  lossfun = nn.CrossEntropyLoss()\n",
    "  optimizer = torch.optim.Adam(net.parameters(),lr=.001)\n",
    "\n",
    "  return net,lossfun,optimizer"
   ]
  },
  {
   "cell_type": "code",
   "execution_count": null,
   "metadata": {},
   "outputs": [],
   "source": [
    "# a function that trains the model\n",
    "\n",
    "def function2trainTheModel(numchans):\n",
    "\n",
    "  numepochs = 5\n",
    "\n",
    "  net,lossfun,optimizer = makeTheNet(numchans)\n",
    "\n",
    "  net.to(device)\n",
    "\n",
    "  trainLoss = torch.zeros(numepochs)\n",
    "  testLoss  = torch.zeros(numepochs)\n",
    "  trainErr  = torch.zeros(numepochs)\n",
    "  testErr   = torch.zeros(numepochs)\n",
    "\n",
    "\n",
    "  for epochi in range(numepochs):\n",
    "\n",
    "    net.train()\n",
    "    batchLoss = []\n",
    "    batchErr  = []\n",
    "    for X,y in train_loader:\n",
    "\n",
    "      X = X.to(device)\n",
    "      y = y.to(device)\n",
    "\n",
    "      yHat = net(X)\n",
    "      loss = lossfun(yHat,y)\n",
    "\n",
    "      optimizer.zero_grad()\n",
    "      loss.backward()\n",
    "      optimizer.step()\n",
    "\n",
    "      batchLoss.append(loss.item())\n",
    "      batchErr.append( torch.mean((torch.argmax(yHat,axis=1) != y).float()).item() )\n",
    "\n",
    "    trainLoss[epochi] = np.mean(batchLoss)\n",
    "    trainErr[epochi]  = 100*np.mean(batchErr)\n",
    "    net.eval()\n",
    "    X,y = next(iter(test_loader)) \n",
    "\n",
    "    X = X.to(device)\n",
    "    y = y.to(device)\n",
    "\n",
    "    with torch.no_grad():\n",
    "      yHat = net(X)\n",
    "      loss = lossfun(yHat,y)\n",
    "\n",
    "    testLoss[epochi] = loss.item()\n",
    "    testErr[epochi]  = 100*torch.mean((torch.argmax(yHat,axis=1) != y).float()).item()\n",
    "\n",
    "\n",
    "  return trainLoss,testLoss,trainErr,testErr,net"
   ]
  },
  {
   "cell_type": "code",
   "execution_count": null,
   "metadata": {},
   "outputs": [],
   "source": [
    "trainLoss,testLoss,trainErr,testErr,net = function2trainTheModel((3,7))\n",
    "fig,ax = plt.subplots(1,2,figsize=(15,3))\n",
    "\n",
    "ax[0].plot(trainLoss,'s-',label='Train')\n",
    "ax[0].plot(testLoss,'o-',label='Test')\n",
    "ax[0].set_xlabel('Epochs')\n",
    "ax[0].set_ylabel('Loss ')\n",
    "ax[0].set_title('Model loss')\n",
    "\n",
    "ax[1].plot(trainErr,'s-',label='Train')\n",
    "ax[1].plot(testErr,'o-',label='Test')\n",
    "ax[1].set_xlabel('Epochs')\n",
    "ax[1].set_ylabel('Error rates')\n",
    "ax[1].set_title(f'Last model test error rate: {testErr[-1]:.2f}%')\n",
    "ax[1].legend()\n",
    "\n",
    "plt.show()"
   ]
  },
  {
   "cell_type": "code",
   "execution_count": null,
   "metadata": {},
   "outputs": [],
   "source": [
    "convChannelsList=[2,5,8]\n",
    "results=torch.zeros(len(convChannelsList),len(convChannelsList),2)\n",
    "totalChanns=torch.zeros(len(convChannelsList),len(convChannelsList))\n",
    "'''\n",
    " a tensor with shape 3,3,2 means 3 arrays each has 3 arrays and from the last each array has 2 elements\n",
    "# 3 3 2\n",
    "each has 2 elements\n",
    "[[],[],[]]\n",
    " [[],[],[]]\n",
    " [[],[],[]]\n",
    "\n",
    "\n",
    "  '''\n",
    "for i,firstElConv in enumerate(convChannelsList):\n",
    "  for j,secondElConv in enumerate(convChannelsList):\n",
    "    trainLoss,testLoss,trainErr,testErr,net = function2trainTheModel((firstElConv,secondElConv))\n",
    "\n",
    "    results[i,j,:]=testErr[-1],trainErr[-1]\n",
    "    totalChanns[i,j]=firstElConv+secondElConv\n"
   ]
  },
  {
   "cell_type": "code",
   "execution_count": null,
   "metadata": {},
   "outputs": [],
   "source": []
  }
 ],
 "metadata": {
  "language_info": {
   "name": "python"
  }
 },
 "nbformat": 4,
 "nbformat_minor": 2
}
