{
 "cells": [
  {
   "cell_type": "code",
   "execution_count": null,
   "metadata": {},
   "outputs": [],
   "source": [
    "import numpy as np\n",
    "import torch\n",
    "import torch.nn as nn\n",
    "import torch.nn.functional as F\n",
    "from torch.utils.data import DataLoader,TensorDataset\n",
    "import copy\n",
    "from sklearn.model_selection import train_test_split\n",
    "import torchvision\n",
    "import matplotlib.pyplot as plt\n",
    "from IPython import display\n",
    "display.set_matplotlib_formats('svg')"
   ]
  },
  {
   "cell_type": "code",
   "execution_count": null,
   "metadata": {},
   "outputs": [],
   "source": [
    "device = torch.device('cuda:0' if torch.cuda.is_available() else 'cpu')"
   ]
  },
  {
   "cell_type": "code",
   "execution_count": null,
   "metadata": {},
   "outputs": [],
   "source": [
    "cdata = torchvision.datasets.EMNIST(root='emnist',split='letters',download=True)\n"
   ]
  },
  {
   "cell_type": "code",
   "execution_count": null,
   "metadata": {},
   "outputs": [],
   "source": [
    "images = cdata.data.view([124800,1,28,28]).float()\n",
    "# normalize the images\n",
    "images /= torch.max(images)\n",
    "print('\\nTensor data:')\n",
    "print(images.shape)\n"
   ]
  },
  {
   "cell_type": "code",
   "execution_count": null,
   "metadata": {},
   "outputs": [],
   "source": [
    "letterCategories = cdata.classes[1:]\n",
    "labels = copy.deepcopy(cdata.targets)-1"
   ]
  },
  {
   "cell_type": "code",
   "execution_count": null,
   "metadata": {},
   "outputs": [],
   "source": [
    "train_data,test_data, train_labels,test_labels = train_test_split(images, labels, test_size=.1)\n",
    "train_data = TensorDataset(train_data,train_labels)\n",
    "test_data  = TensorDataset(test_data,test_labels)\n",
    "batchsize    = 32\n",
    "train_loader = DataLoader(train_data,batch_size=batchsize,shuffle=True,drop_last=True)\n",
    "test_loader  = DataLoader(test_data,batch_size=test_data.tensors[0].shape[0])"
   ]
  },
  {
   "cell_type": "code",
   "execution_count": null,
   "metadata": {},
   "outputs": [],
   "source": [
    "def makeTheNet(numchans=(6,6)):\n",
    "\n",
    "  class emnistnet(nn.Module):\n",
    "    def __init__(self,numchans):\n",
    "      super().__init__()\n",
    "\n",
    "      self.conv1  = nn.Conv2d(1,numchans[0],3,padding=1)\n",
    "      self.bnorm1 = nn.BatchNorm2d(numchans[0])\n",
    "      self.conv2  = nn.Conv2d(numchans[0],numchans[1],3,padding=1)\n",
    "      self.bnorm2 = nn.BatchNorm2d(numchans[1])\n",
    "      self.fc1 = nn.Linear(7*7*numchans[1],50)\n",
    "      self.fc2 = nn.Linear(50,26)\n",
    "\n",
    "    def forward(self,x):\n",
    "\n",
    "      x = F.max_pool2d(self.conv1(x),2)\n",
    "      x = F.leaky_relu(self.bnorm1(x))\n",
    "      x = F.max_pool2d(self.conv2(x),2)\n",
    "      x = F.leaky_relu(self.bnorm2(x))\n",
    "      nUnits = x.shape.numel()/x.shape[0]\n",
    "      x = x.view(-1,int(nUnits))\n",
    "      x = F.leaky_relu(self.fc1(x))\n",
    "      x = self.fc2(x)\n",
    "      return x\n",
    "\n",
    "  net = emnistnet(numchans)\n",
    "  lossfun = nn.CrossEntropyLoss()\n",
    "  optimizer = torch.optim.Adam(net.parameters(),lr=.001)\n",
    "\n",
    "  return net,lossfun,optimizer"
   ]
  }
 ],
 "metadata": {
  "language_info": {
   "name": "python"
  }
 },
 "nbformat": 4,
 "nbformat_minor": 2
}
