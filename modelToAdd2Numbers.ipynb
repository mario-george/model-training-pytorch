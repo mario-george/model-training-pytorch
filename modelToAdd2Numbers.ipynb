{
 "cells": [
  {
   "cell_type": "markdown",
   "metadata": {},
   "source": [
    "# making a model that adds any Two Numbers from -10 to 10 \n",
    "## Author: Mario George\n",
    "### which can be changed to any two numbers from the boundaries of the torch.randint method"
   ]
  },
  {
   "cell_type": "code",
   "execution_count": 3,
   "metadata": {},
   "outputs": [],
   "source": [
    "import pandas as pd\n",
    "import numpy as np\n",
    "import torch\n",
    "import torch.nn as nn\n",
    "import torch.nn.functional as F\n",
    "import scipy.stats as stats\n",
    "import sklearn.metrics as skm\n",
    "from torch.utils.data import DataLoader,TensorDataset\n",
    "from sklearn.model_selection import train_test_split\n",
    "import matplotlib.pyplot as plt\n",
    "import matplotlib_inline\n",
    "matplotlib_inline.backend_inline.set_matplotlib_formats('svg')"
   ]
  },
  {
   "cell_type": "code",
   "execution_count": 4,
   "metadata": {},
   "outputs": [],
   "source": [
    "N=20000\n",
    "data=torch.randint(-10,11,size=(N,2)).float()\n"
   ]
  },
  {
   "cell_type": "code",
   "execution_count": 5,
   "metadata": {},
   "outputs": [
    {
     "data": {
      "text/plain": [
       "tensor([[ -7.],\n",
       "        [ -2.],\n",
       "        [-11.],\n",
       "        ...,\n",
       "        [-19.],\n",
       "        [ 16.],\n",
       "        [-10.]])"
      ]
     },
     "execution_count": 5,
     "metadata": {},
     "output_type": "execute_result"
    }
   ],
   "source": [
    "labels=torch.sum(data,dim=1,keepdim=True)\n",
    "labels"
   ]
  },
  {
   "cell_type": "code",
   "execution_count": 6,
   "metadata": {},
   "outputs": [
    {
     "name": "stdout",
     "output_type": "stream",
     "text": [
      "tensor([-5., -2.]),tensor([-7.])\n",
      "tensor([ 5., -7.]),tensor([-2.])\n",
      "tensor([-9., -2.]),tensor([-11.])\n",
      "tensor([ 1., 10.]),tensor([11.])\n",
      "tensor([9., 5.]),tensor([14.])\n"
     ]
    }
   ],
   "source": [
    "# for i in range(len(labels)):\n",
    "#     print(f'{data[i]},{labels[i]}')\n",
    "for i in range(5):\n",
    "    print(f'{data[i]},{labels[i]}')"
   ]
  },
  {
   "cell_type": "code",
   "execution_count": 7,
   "metadata": {},
   "outputs": [],
   "source": [
    "train_dataset=TensorDataset(data,labels)\n",
    "batchNumber=16\n",
    "train_loader=DataLoader(train_dataset,shuffle=True,drop_last=True,batch_size=batchNumber)\n"
   ]
  },
  {
   "cell_type": "code",
   "execution_count": 8,
   "metadata": {},
   "outputs": [],
   "source": [
    "def createModal():\n",
    "\n",
    "    class Net(nn.Module) :\n",
    "        def __init__(self):\n",
    "            super().__init__()\n",
    "            self.input=nn.Linear(2,16)\n",
    "            self.hidden=nn.Linear(16,16)\n",
    "            self.output=nn.Linear(16,1)\n",
    "        def forward(self,x):\n",
    "            x=F.relu(self.input(x))\n",
    "            x=F.relu(self.hidden(x))\n",
    "            return self.output(x)\n",
    "    net=Net()\n",
    "    lossFunction=nn.MSELoss()\n",
    "    optimizer=torch.optim.Adam(net.parameters(),lr=.001)\n",
    "    return net,lossFunction,optimizer\n"
   ]
  },
  {
   "cell_type": "code",
   "execution_count": 9,
   "metadata": {},
   "outputs": [
    {
     "name": "stdout",
     "output_type": "stream",
     "text": [
      "tensor(100.)\n",
      "tensor(100.)\n"
     ]
    }
   ],
   "source": [
    "def TrainModal():\n",
    "    numEpochs=100\n",
    "    net,lossFunction,optimizer=createModal()\n",
    "    losses=[]\n",
    "\n",
    "    for i in range(numEpochs):\n",
    "        batchLoss=[]\n",
    "        batchAcc=[]\n",
    "        for X,y in train_loader:\n",
    "            yHat=net(X)\n",
    "      \n",
    "            loss=lossFunction(yHat,y)\n",
    "            batchLoss.append(loss.item())\n",
    "\n",
    "            optimizer.zero_grad()\n",
    "            loss.backward()\n",
    "            optimizer.step()\n",
    "\n",
    "        \n",
    "    with torch.no_grad():\n",
    "        yHat=net(data)\n",
    "        acc=100*torch.mean((np.abs(yHat-labels)<1).float())\n",
    "    with torch.no_grad():\n",
    "        # test using newly generated numbers and the sum \n",
    "        newDataTest=torch.randint(-10,11,size=(N,2)).float()\n",
    "        newLabelsTest=torch.sum(newDataTest,dim=1,keepdim=True)\n",
    "        yHat=net(newDataTest)\n",
    "        testAcc=100*torch.mean((np.abs(yHat-newLabelsTest)<1).float())\n",
    "    \n",
    "\n",
    "    return losses,acc,testAcc,net\n",
    "\n",
    "        \n",
    "losses,acc,testAcc,net=TrainModal()\n",
    "print(acc)\n",
    "print(testAcc)"
   ]
  },
  {
   "cell_type": "code",
   "execution_count": 21,
   "metadata": {},
   "outputs": [
    {
     "name": "stdout",
     "output_type": "stream",
     "text": [
      "#0 the train acc is 100.0 and test acc is 100.0 it took 146.01827689899994 to complete\n",
      "#1 the train acc is 100.0 and test acc is 100.0 it took 144.24295877600002 to complete\n",
      "#2 the train acc is 100.0 and test acc is 100.0 it took 148.17667183699996 to complete\n",
      "#3 the train acc is 100.0 and test acc is 100.0 it took 161.59789799700002 to complete\n",
      "#4 the train acc is 100.0 and test acc is 100.0 it took 145.27511830799995 to complete\n",
      "#5 the train acc is 100.0 and test acc is 100.0 it took 146.0603996499999 to complete\n",
      "#6 the train acc is 100.0 and test acc is 100.0 it took 150.60515977599994 to complete\n",
      "#7 the train acc is 100.0 and test acc is 100.0 it took 141.30256485899986 to complete\n",
      "#8 the train acc is 100.0 and test acc is 100.0 it took 145.19126052600018 to complete\n",
      "#9 the train acc is 100.0 and test acc is 100.0 it took 145.77639754600023 to complete\n"
     ]
    }
   ],
   "source": [
    "import time\n",
    "for i in range(10):\n",
    "    currentTime=time.process_time()\n",
    "    _,acc,testAcc,_2=TrainModal()\n",
    "    # i used _ because i won't be using the losses\n",
    "    print(f'#{i} the train acc is {acc} and test acc is {testAcc} it took {time.process_time()-currentTime} to complete')\n"
   ]
  },
  {
   "cell_type": "code",
   "execution_count": 10,
   "metadata": {},
   "outputs": [
    {
     "name": "stdout",
     "output_type": "stream",
     "text": [
      "-7.002230644226074,-7.0\n",
      "-2.000800371170044,-2.0\n",
      "-11.003644943237305,-11.0\n",
      "11.002310752868652,11.0\n",
      "14.002938270568848,14.0\n",
      "3.000311851501465,3.0\n",
      "5.000998497009277,5.0\n",
      "13.00274658203125,13.0\n",
      "-11.003644943237305,-11.0\n",
      "-2.0062127113342285,-2.0\n",
      "6.001201629638672,6.0\n",
      "-1.0002928972244263,-1.0\n",
      "-12.004645347595215,-12.0\n",
      "3.000096321105957,3.0\n",
      "-2.000985860824585,-2.0\n",
      "11.002310752868652,11.0\n",
      "-5.001738548278809,-5.0\n",
      "6.999540328979492,7.0\n",
      "-6.001956939697266,-6.0\n",
      "1.993873953819275,2.0\n",
      "-2.000800371170044,-2.0\n",
      "-3.9997284412384033,-4.0\n",
      "3.996981620788574,4.0\n",
      "-16.00584602355957,-16.0\n",
      "-11.003644943237305,-11.0\n",
      "8.001654624938965,8.0\n",
      "1.9989615678787231,2.0\n",
      "10.002091407775879,10.0\n",
      "-16.00584602355957,-16.0\n",
      "-5.0060834884643555,-5.0\n",
      "11.00226879119873,11.0\n",
      "-3.001554489135742,-3.0\n",
      "1.0015884637832642,1.0\n",
      "-4.9999237060546875,-5.0\n",
      "4.99758768081665,5.0\n",
      "0.9998081922531128,1.0\n",
      "-18.00687599182129,-18.0\n",
      "2.6054680347442627e-05,0.0\n",
      "-9.002817153930664,-9.0\n",
      "-12.004321098327637,-12.0\n",
      "5.000635147094727,5.0\n",
      "-1.0004175901412964,-1.0\n",
      "-7.00545072555542,-7.0\n",
      "-5.001630783081055,-5.0\n",
      "1.9989615678787231,2.0\n",
      "-3.0049993991851807,-3.0\n",
      "-8.002585411071777,-8.0\n",
      "-8.001565933227539,-8.0\n",
      "4.000860691070557,4.0\n",
      "-6.002091884613037,-6.0\n"
     ]
    }
   ],
   "source": [
    "losses,acc,testAcc,net=TrainModal()\n",
    "\n",
    "yHat=net(data)\n",
    "# use len(labels) for all the data i will print the first 50 predict/actual output\n",
    "for i in range(50):\n",
    "    \n",
    "    print(f'{yHat[i].item()},{labels[i].item()}')"
   ]
  }
 ],
 "metadata": {
  "kernelspec": {
   "display_name": "Python 3",
   "language": "python",
   "name": "python3"
  },
  "language_info": {
   "codemirror_mode": {
    "name": "ipython",
    "version": 3
   },
   "file_extension": ".py",
   "mimetype": "text/x-python",
   "name": "python",
   "nbconvert_exporter": "python",
   "pygments_lexer": "ipython3",
   "version": "3.11.5"
  },
  "orig_nbformat": 4
 },
 "nbformat": 4,
 "nbformat_minor": 2
}
