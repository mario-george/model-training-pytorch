{
 "cells": [
  {
   "cell_type": "code",
   "execution_count": null,
   "metadata": {},
   "outputs": [],
   "source": [
    "from torch.utils.data import TensorDataset,DataLoader\n",
    "import numpy as np\n",
    "import torch\n",
    "import torch.nn as nn\n",
    "import torch.nn.functional as F\n",
    "from sklearn.model_selection import train_test_split\n",
    "import matplotlib.pyplot as plt"
   ]
  },
  {
   "cell_type": "code",
   "execution_count": null,
   "metadata": {},
   "outputs": [],
   "source": [
    "# MY DATA\n",
    "\n",
    "\n",
    "nPerCluster=100\n",
    "A=[1,2]\n",
    "B=[7,6]\n",
    "C=[-1,-2]\n",
    "a=[A[0]+np.random.randn(nPerCluster),A[1]+np.random.randn(nPerCluster)]\n",
    "b=[B[0]+np.random.randn(nPerCluster),B[1]+np.random.randn(nPerCluster)]\n",
    "c=[C[0]+np.random.randn(nPerCluster),C[1]+np.random.randn(nPerCluster)]\n",
    "\n",
    "data=np.hstack((a,b,c)).T\n",
    "dataT=torch.tensor(data).float()\n",
    "labels=np.hstack((np.zeros(nPerCluster),np.ones(nPerCluster),1+np.ones(nPerCluster)))\n",
    "labelsT=torch.tensor(labels).long()\n",
    "\n",
    "\n",
    "print(labelsT.shape)\n",
    "print(dataT.shape)"
   ]
  },
  {
   "cell_type": "code",
   "execution_count": null,
   "metadata": {},
   "outputs": [],
   "source": [
    "# VISUALIZATION\n",
    "plt.title(\"DATA CLASSIFIED\")\n",
    "plt.plot(data[np.where(labels==0)[0],0],data[np.where(labels==0)[0],1],'ro')\n",
    "plt.plot(data[np.where(labels==1)[0],0],data[np.where(labels==1)[0],1],'b^')\n",
    "plt.plot(data[np.where(labels==2)[0],0],data[np.where(labels==2)[0],1],'gs')\n",
    "plt.legend()\n",
    "plt.show()"
   ]
  },
  {
   "cell_type": "code",
   "execution_count": null,
   "metadata": {},
   "outputs": [],
   "source": [
    "\n",
    "train_data,test_data,train_labels,test_labels=train_test_split(dataT,labelsT,train_size=.8)\n",
    "train_dataset=TensorDataset(train_data,train_labels)\n",
    "test_dataset=TensorDataset(test_data,test_labels)\n",
    "batchNumber=16\n",
    "train_loader=DataLoader(train_dataset,shuffle=True,drop_last=True,batch_size=batchNumber)\n",
    "test_loader=DataLoader(test_dataset,batch_size=test_dataset.tensors[0].shape[0])"
   ]
  },
  {
   "cell_type": "code",
   "execution_count": null,
   "metadata": {},
   "outputs": [],
   "source": [
    "def ModelCreationWithDynamicUnits(nUnits,nLayers):\n",
    "    class model(nn.Module):\n",
    "        def __init__(self,nUnits,nLayers):\n",
    "            super().__init__()\n",
    "            self.layers=nn.ModuleDict()\n",
    "            self.nLayers = nLayers\n",
    "\n",
    "            self.layers['input']=nn.Linear(2,nUnits)\n",
    "            for i in range(self.nLayers):\n",
    "                self.layers[f'hidden{i}']=nn.Linear(nUnits,nUnits)\n",
    "            self.layers['output']=nn.Linear(nUnits,3)\n",
    "        def forward(self,x):\n",
    "            x=F.relu(self.layers['input'](x))\n",
    "            for i in range(self.nLayers):\n",
    "                x=F.relu(self.layers[f'hidden{i}'](x))\n",
    "            x=F.relu(self.layers['output'](x))\n",
    "            return x\n",
    "    net=model(nUnits,nLayers)\n",
    "    lossFun=nn.CrossEntropyLoss()\n",
    "    optimizer=torch.optim.SGD(net.parameters(),lr=.1)\n",
    "    return net,optimizer,lossFun"
   ]
  },
  {
   "cell_type": "code",
   "execution_count": null,
   "metadata": {},
   "outputs": [],
   "source": [
    "def function2Train():\n",
    "    net,optimizer,lossFun=ModelCreationWithDynamicUnits(80,1)\n",
    "    losses=[]\n",
    "    ephoch_train_acc=[]\n",
    "    testAcc=[]\n",
    "    numEpochs=1000\n",
    "    for epohchi in range(numEpochs):\n",
    "        batchAcc=[]\n",
    "        for X,y in train_loader:\n",
    "            yHat=net(X)\n",
    "            loss=lossFun(yHat,y)\n",
    "            losses.append(loss.item())\n",
    "            optimizer.zero_grad()\n",
    "            loss.backward()\n",
    "            optimizer.step()\n",
    "            acc=(torch.argmax(yHat,dim=1)==y).float()\n",
    "            meanAcc=np.mean(acc.numpy())\n",
    "            batchAcc.append(meanAcc)\n",
    "        ephoch_train_acc.append(np.mean(batchAcc))\n",
    "        X,y=next(iter(test_loader)) \n",
    "        with torch.no_grad():\n",
    "            yHat=net(X)\n",
    "            loss=lossFun(yHat,y)\n",
    "            acc=(torch.argmax(yHat,dim=1)==y).float()\n",
    "            acc=acc.numpy()\n",
    "            meanAcc=np.mean(acc)\n",
    "            testAcc.append(meanAcc)\n",
    "    return testAcc,ephoch_train_acc,losses"
   ]
  },
  {
   "cell_type": "code",
   "execution_count": null,
   "metadata": {},
   "outputs": [],
   "source": [
    "\n",
    "testAcc,ephoch_train_acc,losses=function2Train()\n",
    "print(f'total accuracy for train is {ephoch_train_acc[-1]}')\n",
    "print(f'total accuracy for test is {testAcc[-1]}')\n",
    "#plotting the loss of train and test and accuracy of both\n",
    "\n",
    "plt.plot(ephoch_train_acc,'r-',label=\"train Accuracy\")\n",
    "plt.plot(testAcc,'b-',label=\"test Accuracy\")\n",
    "plt.legend()\n",
    "plt.show()\n",
    "plt.plot(losses,'g-',label=\"loss\")\n",
    "plt.legend()\n",
    "plt.show()"
   ]
  }
 ],
 "metadata": {
  "language_info": {
   "name": "python"
  },
  "orig_nbformat": 4
 },
 "nbformat": 4,
 "nbformat_minor": 2
}
