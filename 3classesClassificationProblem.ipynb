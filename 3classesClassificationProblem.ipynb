{
 "cells": [
  {
   "cell_type": "code",
   "execution_count": null,
   "metadata": {},
   "outputs": [],
   "source": [
    "from torch.utils.data import TensorDataset,DataLoader\n",
    "import numpy as np\n",
    "import torch\n",
    "import torch.nn as nn\n",
    "import torch.nn.functional as F\n",
    "from sklearn.model_selection import train_test_split\n",
    "import matplotlib.pyplot as plt"
   ]
  },
  {
   "cell_type": "code",
   "execution_count": null,
   "metadata": {},
   "outputs": [],
   "source": [
    "# MY DATA\n",
    "\n",
    "\n",
    "nPerCluster=100\n",
    "A=[1,2]\n",
    "B=[7,6]\n",
    "C=[-1,-2]\n",
    "a=[A[0]+np.random.randn(nPerCluster),A[1]+np.random.randn(nPerCluster)]\n",
    "b=[B[0]+np.random.randn(nPerCluster),B[1]+np.random.randn(nPerCluster)]\n",
    "c=[C[0]+np.random.randn(nPerCluster),C[1]+np.random.randn(nPerCluster)]\n",
    "\n",
    "data=np.hstack((a,b,c)).T\n",
    "dataT=torch.tensor(data).float()\n",
    "labels=np.hstack((np.zeros(nPerCluster),np.ones(nPerCluster),1+np.ones(nPerCluster)))\n",
    "labelsT=torch.tensor(labels).long()\n",
    "\n",
    "\n",
    "print(labelsT.shape)\n",
    "print(dataT.shape)"
   ]
  }
 ],
 "metadata": {
  "language_info": {
   "name": "python"
  },
  "orig_nbformat": 4
 },
 "nbformat": 4,
 "nbformat_minor": 2
}
