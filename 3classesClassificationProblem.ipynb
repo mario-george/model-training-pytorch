{
 "cells": [
  {
   "cell_type": "code",
   "execution_count": null,
   "metadata": {},
   "outputs": [],
   "source": [
    "from torch.utils.data import TensorDataset,DataLoader\n",
    "import numpy as np\n",
    "import torch\n",
    "import torch.nn as nn\n",
    "import torch.nn.functional as F\n",
    "from sklearn.model_selection import train_test_split\n",
    "import matplotlib.pyplot as plt"
   ]
  },
  {
   "cell_type": "code",
   "execution_count": null,
   "metadata": {},
   "outputs": [],
   "source": [
    "# MY DATA\n",
    "\n",
    "\n",
    "nPerCluster=100\n",
    "A=[1,2]\n",
    "B=[7,6]\n",
    "C=[-1,-2]\n",
    "a=[A[0]+np.random.randn(nPerCluster),A[1]+np.random.randn(nPerCluster)]\n",
    "b=[B[0]+np.random.randn(nPerCluster),B[1]+np.random.randn(nPerCluster)]\n",
    "c=[C[0]+np.random.randn(nPerCluster),C[1]+np.random.randn(nPerCluster)]\n",
    "\n",
    "data=np.hstack((a,b,c)).T\n",
    "dataT=torch.tensor(data).float()\n",
    "labels=np.hstack((np.zeros(nPerCluster),np.ones(nPerCluster),1+np.ones(nPerCluster)))\n",
    "labelsT=torch.tensor(labels).long()\n",
    "\n",
    "\n",
    "print(labelsT.shape)\n",
    "print(dataT.shape)"
   ]
  },
  {
   "cell_type": "code",
   "execution_count": null,
   "metadata": {},
   "outputs": [],
   "source": [
    "# VISUALIZATION\n",
    "plt.title(\"DATA CLASSIFIED\")\n",
    "plt.plot(data[np.where(labels==0)[0],0],data[np.where(labels==0)[0],1],'ro')\n",
    "plt.plot(data[np.where(labels==1)[0],0],data[np.where(labels==1)[0],1],'b^')\n",
    "plt.plot(data[np.where(labels==2)[0],0],data[np.where(labels==2)[0],1],'gs')\n",
    "plt.legend()\n",
    "plt.show()"
   ]
  },
  {
   "cell_type": "code",
   "execution_count": null,
   "metadata": {},
   "outputs": [],
   "source": [
    "\n",
    "train_data,test_data,train_labels,test_labels=train_test_split(dataT,labelsT,train_size=.8)\n",
    "train_dataset=TensorDataset(train_data,train_labels)\n",
    "test_dataset=TensorDataset(test_data,test_labels)\n",
    "batchNumber=16\n",
    "train_loader=DataLoader(train_dataset,shuffle=True,drop_last=True,batch_size=batchNumber)\n",
    "test_loader=DataLoader(test_dataset,batch_size=test_dataset.tensors[0].shape[0])"
   ]
  }
 ],
 "metadata": {
  "language_info": {
   "name": "python"
  },
  "orig_nbformat": 4
 },
 "nbformat": 4,
 "nbformat_minor": 2
}
